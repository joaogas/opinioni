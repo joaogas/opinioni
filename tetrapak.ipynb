{
  "cells": [
    {
      "cell_type": "markdown",
      "metadata": {
        "id": "view-in-github",
        "colab_type": "text"
      },
      "source": [
        "<a href=\"https://colab.research.google.com/github/joaogas/opinioni/blob/master/tetrapak.ipynb\" target=\"_parent\"><img src=\"https://colab.research.google.com/assets/colab-badge.svg\" alt=\"Open In Colab\"/></a>"
      ]
    },
    {
      "cell_type": "code",
      "execution_count": null,
      "id": "f544c476",
      "metadata": {
        "id": "f544c476"
      },
      "outputs": [],
      "source": [
        "import sympy as sy\n",
        "from sympy import *\n",
        "import math\n",
        "sy.init_printing()"
      ]
    },
    {
      "cell_type": "markdown",
      "id": "45d1f53c",
      "metadata": {
        "id": "45d1f53c"
      },
      "source": [
        "Sia $R$ un rettangolo di area fissata $A$, dette $a,b$ le su dimensioni (supponiamo $b>a$) si costruisca il tetraedro (metodo [tetrapak](https://www.tetrapak.com/it-it/about-tetra-pak)) di volume massimo.\n",
        "\n",
        "Costruzione tetrapak:\n",
        "\n",
        "rettangolo di partenza\n",
        " <img src=\"tetra-01.png\" width=\"200\"/> prima piega <img src=\"figure/tetra-02.png\" width=\"200\"/>\n",
        " tetraedro finito <img src=\"figure/tetra-03.png\" width=\"200\"/>\n",
        "\n",
        "$b=\\dfrac{A}{a}$"
      ]
    },
    {
      "cell_type": "code",
      "execution_count": null,
      "id": "913d45bf",
      "metadata": {
        "id": "913d45bf"
      },
      "outputs": [],
      "source": [
        "A,a,b,h,l,ctheta = sy.symbols('A,a,b,h,l,ctheta',positive=True)"
      ]
    },
    {
      "cell_type": "markdown",
      "id": "e5aacb56-00fa-460c-828f-23f320e8a10c",
      "metadata": {
        "id": "e5aacb56-00fa-460c-828f-23f320e8a10c"
      },
      "source": [
        "facciamo l'ipotesi che i lati rettangolo $a,b$ siano tali che $b>a$, con $a>0$"
      ]
    },
    {
      "cell_type": "code",
      "execution_count": null,
      "id": "fe813bd3",
      "metadata": {
        "id": "fe813bd3"
      },
      "outputs": [],
      "source": [
        "b = A/a\n",
        "h = a # vedi figura"
      ]
    },
    {
      "cell_type": "markdown",
      "id": "cd683dbf-c18e-483f-87b7-a4fd35566ddb",
      "metadata": {
        "id": "cd683dbf-c18e-483f-87b7-a4fd35566ddb"
      },
      "source": [
        "il tetraedro ha come facce 4 triangoli isosceli di base $\\dfrac{b}{2}=\\ell$ e lati $\\ell_1$"
      ]
    },
    {
      "cell_type": "code",
      "execution_count": null,
      "id": "e5e67ec9-f0a1-4b0d-98d2-a71584b148aa",
      "metadata": {
        "tags": [],
        "colab": {
          "base_uri": "https://localhost:8080/",
          "height": 58
        },
        "id": "e5e67ec9-f0a1-4b0d-98d2-a71584b148aa",
        "outputId": "4a70c5b2-0a69-443c-a5e0-035559bf1b6a"
      },
      "outputs": [
        {
          "output_type": "execute_result",
          "data": {
            "text/plain": [
              "      ____________\n",
              "     ╱    2       \n",
              "    ╱    A      2 \n",
              "   ╱   ───── + a  \n",
              "  ╱        2      \n",
              "╲╱     16⋅a       "
            ],
            "text/latex": "$\\displaystyle \\sqrt{\\frac{A^{2}}{16 a^{2}} + a^{2}}$"
          },
          "metadata": {},
          "execution_count": 4
        }
      ],
      "source": [
        "l1 = sy.sqrt(a**2+(b/4)**2)\n",
        "l1"
      ]
    },
    {
      "cell_type": "markdown",
      "id": "0f328295-9681-47e8-85a4-56e2ab0bf6ef",
      "metadata": {
        "id": "0f328295-9681-47e8-85a4-56e2ab0bf6ef"
      },
      "source": [
        "calcolo del coseno dell'angolo diedro: $\\ell^2=h^2+h^2-2 h^2 \\cos\\left(\\vartheta \\right)$\n",
        "\n",
        "<img src=\"figure/angolo-diedro.png\" width=\"300\"/>"
      ]
    },
    {
      "cell_type": "code",
      "execution_count": null,
      "id": "ff3dc59a-dd4b-4363-b8f5-034eed18f592",
      "metadata": {
        "tags": [],
        "id": "ff3dc59a-dd4b-4363-b8f5-034eed18f592"
      },
      "outputs": [],
      "source": [
        "eq1 = sy.Eq((b/2)**2,(2*h**2-2*h**2*ctheta))\n",
        "cosT = sy.solve(eq1,ctheta)"
      ]
    },
    {
      "cell_type": "code",
      "execution_count": null,
      "id": "da59972e",
      "metadata": {
        "colab": {
          "base_uri": "https://localhost:8080/",
          "height": 54
        },
        "id": "da59972e",
        "outputId": "f299c4d6-4e52-4261-918b-42a77bf66df1"
      },
      "outputs": [
        {
          "output_type": "execute_result",
          "data": {
            "text/plain": [
              "    2     \n",
              "   A      \n",
              "- ──── + 1\n",
              "     4    \n",
              "  8⋅a     "
            ],
            "text/latex": "$\\displaystyle - \\frac{A^{2}}{8 a^{4}} + 1$"
          },
          "metadata": {},
          "execution_count": 6
        }
      ],
      "source": [
        "cT = cosT[0]\n",
        "cT"
      ]
    },
    {
      "cell_type": "markdown",
      "id": "f7549df7-a254-409f-b90a-684f2591dfce",
      "metadata": {
        "id": "f7549df7-a254-409f-b90a-684f2591dfce"
      },
      "source": [
        "Costruiamo la funzione $V$olume del tetraedro."
      ]
    },
    {
      "cell_type": "code",
      "execution_count": null,
      "id": "883c8beb",
      "metadata": {
        "id": "883c8beb"
      },
      "outputs": [],
      "source": [
        "sinT =sy.sqrt(1-cT**2)\n",
        "V = Function('V')\n",
        "def V(a) :\n",
        "    volume = ((b*h/4)*a*sinT)/3\n",
        "    return volume"
      ]
    },
    {
      "cell_type": "code",
      "execution_count": null,
      "id": "038d6247-32bb-44bb-bd67-9a77fa5d32b9",
      "metadata": {
        "tags": [],
        "colab": {
          "base_uri": "https://localhost:8080/",
          "height": 70
        },
        "id": "038d6247-32bb-44bb-bd67-9a77fa5d32b9",
        "outputId": "3f85a71f-bc2f-4c43-fa14-54b5bbf0749b"
      },
      "outputs": [
        {
          "output_type": "execute_result",
          "data": {
            "text/plain": [
              "       ⎛ 2    4⎞    \n",
              "     2 ⎜A    a ⎟    \n",
              "    A ⋅⎜── - ──⎟    \n",
              "       ⎝32   6 ⎠    \n",
              "────────────────────\n",
              "      ______________\n",
              " 4   ╱    2       4 \n",
              "a ⋅╲╱  - A  + 16⋅a  "
            ],
            "text/latex": "$\\displaystyle \\frac{A^{2} \\left(\\frac{A^{2}}{32} - \\frac{a^{4}}{6}\\right)}{a^{4} \\sqrt{- A^{2} + 16 a^{4}}}$"
          },
          "metadata": {},
          "execution_count": 8
        }
      ],
      "source": [
        "simplify(diff(V(a),a))"
      ]
    },
    {
      "cell_type": "markdown",
      "id": "a47b3a6a-4cb0-4eae-8dd9-e0a6c7ad3aeb",
      "metadata": {
        "id": "a47b3a6a-4cb0-4eae-8dd9-e0a6c7ad3aeb"
      },
      "source": [
        "Calcoliamo lo zero della derivata prima, che come si può osservare è il massimo"
      ]
    },
    {
      "cell_type": "code",
      "execution_count": null,
      "id": "1de7f68b",
      "metadata": {
        "id": "1de7f68b"
      },
      "outputs": [],
      "source": [
        "eq = sy.Eq(diff(V(a),a),0)"
      ]
    },
    {
      "cell_type": "code",
      "execution_count": null,
      "id": "bf194a1a",
      "metadata": {
        "colab": {
          "base_uri": "https://localhost:8080/",
          "height": 68
        },
        "id": "bf194a1a",
        "outputId": "4fba0dc0-241c-4e0a-936d-d3e134a542e1"
      },
      "outputs": [
        {
          "output_type": "execute_result",
          "data": {
            "text/plain": [
              "⎡4 ___   ⎤\n",
              "⎢╲╱ 3 ⋅√A⎥\n",
              "⎢────────⎥\n",
              "⎣   2    ⎦"
            ],
            "text/latex": "$\\displaystyle \\left[ \\frac{\\sqrt[4]{3} \\sqrt{A}}{2}\\right]$"
          },
          "metadata": {},
          "execution_count": 10
        }
      ],
      "source": [
        "sol = solve(eq,a)\n",
        "sol"
      ]
    },
    {
      "cell_type": "markdown",
      "id": "829f8e9f-a6a6-4521-b3e5-a3834b72336b",
      "metadata": {
        "id": "829f8e9f-a6a6-4521-b3e5-a3834b72336b"
      },
      "source": [
        "calcoliamo ($b$) nel caso del massimo cacolato, da cui ricaviamo lo spigolo del solido"
      ]
    },
    {
      "cell_type": "code",
      "execution_count": null,
      "id": "f31182de",
      "metadata": {
        "colab": {
          "base_uri": "https://localhost:8080/",
          "height": 68
        },
        "id": "f31182de",
        "outputId": "074444e7-465e-449d-c298-37e1d024c6af"
      },
      "outputs": [
        {
          "output_type": "execute_result",
          "data": {
            "text/plain": [
              "⎛ 3/4      3/4   ⎞\n",
              "⎜3   ⋅√A  3   ⋅√A⎟\n",
              "⎜───────, ───────⎟\n",
              "⎝   3        3   ⎠"
            ],
            "text/latex": "$\\displaystyle \\left( \\frac{3^{\\frac{3}{4}} \\sqrt{A}}{3}, \\  \\frac{3^{\\frac{3}{4}} \\sqrt{A}}{3}\\right)$"
          },
          "metadata": {},
          "execution_count": 11
        }
      ],
      "source": [
        "s2 = sol[0]\n",
        "blato = A/s2\n",
        "spigolo = sy.sqrt(s2**2+(blato/4)**2)\n",
        "sy.simplify(spigolo), blato/2"
      ]
    },
    {
      "cell_type": "markdown",
      "id": "3e740f74-761e-41fe-a500-7bca49bdec15",
      "metadata": {
        "id": "3e740f74-761e-41fe-a500-7bca49bdec15"
      },
      "source": [
        "Come si può osservare il tetraedro è regolare."
      ]
    },
    {
      "cell_type": "code",
      "execution_count": null,
      "id": "c3672346-b764-496e-98ac-483eab8959e5",
      "metadata": {
        "id": "c3672346-b764-496e-98ac-483eab8959e5"
      },
      "outputs": [],
      "source": []
    }
  ],
  "metadata": {
    "kernelspec": {
      "display_name": "Python 3 (ipykernel)",
      "language": "python",
      "name": "python3"
    },
    "language_info": {
      "codemirror_mode": {
        "name": "ipython",
        "version": 3
      },
      "file_extension": ".py",
      "mimetype": "text/x-python",
      "name": "python",
      "nbconvert_exporter": "python",
      "pygments_lexer": "ipython3",
      "version": "3.11.6"
    },
    "colab": {
      "provenance": [],
      "toc_visible": true,
      "include_colab_link": true
    }
  },
  "nbformat": 4,
  "nbformat_minor": 5
}