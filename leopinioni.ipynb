{
 "cells": [
  {
   "cell_type": "code",
   "execution_count": null,
   "metadata": {},
   "outputs": [],
   "source": [
    "import random\n",
    "import numpy as np\n",
    "import math\n",
    "from tkinter import *\n",
    "import time"
   ]
  },
  {
   "cell_type": "code",
   "execution_count": null,
   "metadata": {},
   "outputs": [],
   "source": [
    "# cambia opinione\n",
    "def cambiaopinione(mappa):\n",
    "    x = 0\n",
    "    y = 0\n",
    "    for h in range(0,n):\n",
    "        for k in range(0,n):\n",
    "            e = random.randint(1,8)\n",
    "            if e == 1:\n",
    "                x = (h-1) % n\n",
    "                y = (k+1) % n\n",
    "            elif e == 2:\n",
    "                x = h\n",
    "                y = (k+1) % n\n",
    "            elif e == 3:\n",
    "                x = (h+1) % n\n",
    "                y = (k+1) % n\n",
    "            elif e == 4:\n",
    "                x = (h+1) % n\n",
    "                y = k\n",
    "            elif e == 5:\n",
    "                x = (h+1) % n\n",
    "                y = (k-1) % n\n",
    "            elif e == 6:\n",
    "                x = h\n",
    "                y = (k-1) % n\n",
    "            elif e == 7:\n",
    "                x = (h-1) % n\n",
    "                y = (k-1) % n\n",
    "            else:\n",
    "                x = (h-1) % n\n",
    "                y = k\n",
    "            if x<0:\n",
    "                x=n+x\n",
    "            if y<0:\n",
    "                y=n+y;\n",
    "            mappa[h][k]=mappa[x][y]\n",
    "    return mappa"
   ]
  },
  {
   "cell_type": "code",
   "execution_count": null,
   "metadata": {},
   "outputs": [],
   "source": [
    "n = 100\n",
    "dim = 500\n",
    "p = np.zeros((n,n))\n",
    "lato = dim/n\n",
    "# situazione iniziale\n",
    "for i in range(0,n):\n",
    "    for j in range(0,n):\n",
    "        e = random.randint(1,2)\n",
    "        ex = False\n",
    "        if e == 1 :\n",
    "            ex=True\n",
    "        p[i,j]=ex\n",
    "p = np.array(p,dtype=np.bool)"
   ]
  },
  {
   "cell_type": "code",
   "execution_count": 9,
   "metadata": {},
   "outputs": [
    {
     "ename": "TclError",
     "evalue": "can't invoke \"wm\" command: application has been destroyed",
     "output_type": "error",
     "traceback": [
      "\u001b[0;31m---------------------------------------------------------------------------\u001b[0m",
      "\u001b[0;31mTclError\u001b[0m                                  Traceback (most recent call last)",
      "\u001b[0;32m<ipython-input-9-67162293631c>\u001b[0m in \u001b[0;36m<module>\u001b[0;34m\u001b[0m\n\u001b[1;32m     40\u001b[0m     \u001b[0mordine\u001b[0m \u001b[0;34m=\u001b[0m \u001b[0mstr\u001b[0m\u001b[0;34m(\u001b[0m\u001b[0mi\u001b[0m\u001b[0;34m)\u001b[0m\u001b[0;34m\u001b[0m\u001b[0;34m\u001b[0m\u001b[0m\n\u001b[1;32m     41\u001b[0m     \u001b[0mtitolo\u001b[0m \u001b[0;34m=\u001b[0m \u001b[0;34m\"Evoluzione del sistema \"\u001b[0m \u001b[0;34m+\u001b[0m \u001b[0mordine\u001b[0m\u001b[0;34m\u001b[0m\u001b[0;34m\u001b[0m\u001b[0m\n\u001b[0;32m---> 42\u001b[0;31m     \u001b[0mfinestra\u001b[0m\u001b[0;34m.\u001b[0m\u001b[0mtitle\u001b[0m\u001b[0;34m(\u001b[0m\u001b[0mtitolo\u001b[0m\u001b[0;34m)\u001b[0m\u001b[0;34m\u001b[0m\u001b[0;34m\u001b[0m\u001b[0m\n\u001b[0m\u001b[1;32m     43\u001b[0m \u001b[0;34m\u001b[0m\u001b[0m\n\u001b[1;32m     44\u001b[0m \u001b[0mfinestra\u001b[0m\u001b[0;34m.\u001b[0m\u001b[0mmainloop\u001b[0m\u001b[0;34m(\u001b[0m\u001b[0;34m)\u001b[0m\u001b[0;34m\u001b[0m\u001b[0;34m\u001b[0m\u001b[0m\n",
      "\u001b[0;32m/usr/lib64/python3.7/tkinter/__init__.py\u001b[0m in \u001b[0;36mwm_title\u001b[0;34m(self, string)\u001b[0m\n\u001b[1;32m   1983\u001b[0m     \u001b[0;32mdef\u001b[0m \u001b[0mwm_title\u001b[0m\u001b[0;34m(\u001b[0m\u001b[0mself\u001b[0m\u001b[0;34m,\u001b[0m \u001b[0mstring\u001b[0m\u001b[0;34m=\u001b[0m\u001b[0;32mNone\u001b[0m\u001b[0;34m)\u001b[0m\u001b[0;34m:\u001b[0m\u001b[0;34m\u001b[0m\u001b[0;34m\u001b[0m\u001b[0m\n\u001b[1;32m   1984\u001b[0m         \u001b[0;34m\"\"\"Set the title of this widget.\"\"\"\u001b[0m\u001b[0;34m\u001b[0m\u001b[0;34m\u001b[0m\u001b[0m\n\u001b[0;32m-> 1985\u001b[0;31m         \u001b[0;32mreturn\u001b[0m \u001b[0mself\u001b[0m\u001b[0;34m.\u001b[0m\u001b[0mtk\u001b[0m\u001b[0;34m.\u001b[0m\u001b[0mcall\u001b[0m\u001b[0;34m(\u001b[0m\u001b[0;34m'wm'\u001b[0m\u001b[0;34m,\u001b[0m \u001b[0;34m'title'\u001b[0m\u001b[0;34m,\u001b[0m \u001b[0mself\u001b[0m\u001b[0;34m.\u001b[0m\u001b[0m_w\u001b[0m\u001b[0;34m,\u001b[0m \u001b[0mstring\u001b[0m\u001b[0;34m)\u001b[0m\u001b[0;34m\u001b[0m\u001b[0;34m\u001b[0m\u001b[0m\n\u001b[0m\u001b[1;32m   1986\u001b[0m     \u001b[0mtitle\u001b[0m \u001b[0;34m=\u001b[0m \u001b[0mwm_title\u001b[0m\u001b[0;34m\u001b[0m\u001b[0;34m\u001b[0m\u001b[0m\n\u001b[1;32m   1987\u001b[0m     \u001b[0;32mdef\u001b[0m \u001b[0mwm_transient\u001b[0m\u001b[0;34m(\u001b[0m\u001b[0mself\u001b[0m\u001b[0;34m,\u001b[0m \u001b[0mmaster\u001b[0m\u001b[0;34m=\u001b[0m\u001b[0;32mNone\u001b[0m\u001b[0;34m)\u001b[0m\u001b[0;34m:\u001b[0m\u001b[0;34m\u001b[0m\u001b[0;34m\u001b[0m\u001b[0m\n",
      "\u001b[0;31mTclError\u001b[0m: can't invoke \"wm\" command: application has been destroyed"
     ]
    }
   ],
   "source": [
    "ripetizioni = 5000\n",
    "finestra = Tk()\n",
    "finestra.title(\"Evoluzione del sistema\")\n",
    "foglio = Canvas(finestra, width = dim, height = dim, background = \"white\")\n",
    "foglio.grid(row=0, column=0)\n",
    "# ========================\n",
    "# crea gli nxn rettangoli\n",
    "rettangolo = []\n",
    "x1 = 0\n",
    "y1 = 0\n",
    "for h in range(0,n):\n",
    "    colonna = []\n",
    "    for k in range(0,n):\n",
    "        if p[h,k] == True:\n",
    "            colore = \"red\"\n",
    "        else:\n",
    "            colore = \"yellow\"\n",
    "        colonna.append(foglio.create_rectangle(x1,y1,x1+lato,y1+lato,fill = colore, width = 0))\n",
    "        y1 = y1+lato\n",
    "    rettangolo.append(colonna)\n",
    "    x1 = x1+lato\n",
    "    y1 = 0\n",
    "foglio.update()\n",
    "# =========================\n",
    "h = 0\n",
    "k = 0\n",
    "p = cambiaopinione(p)\n",
    "for i in range(0,ripetizioni): \n",
    "    for h in range(0,n):\n",
    "        for k in range(0,n):\n",
    "            if p[h,k] == True:\n",
    "                colore = \"red\"\n",
    "            else:\n",
    "                colore = \"yellow\"\n",
    "            #foglio.create_rectangle(x1,y1,x1+lato,y1+lato,fill = colore)\n",
    "            foglio.itemconfig(rettangolo[h][k],fill=colore)\n",
    "    foglio.update() \n",
    "    #foglio.after(200)\n",
    "    p = cambiaopinione(p)\n",
    "    ordine = str(i)\n",
    "    titolo = \"Evoluzione del sistema \" + ordine\n",
    "    finestra.title(titolo)\n",
    "\n",
    "finestra.mainloop()"
   ]
  },
  {
   "cell_type": "code",
   "execution_count": null,
   "metadata": {},
   "outputs": [],
   "source": []
  }
 ],
 "metadata": {
  "kernelspec": {
   "display_name": "Python 3",
   "language": "python",
   "name": "python3"
  },
  "language_info": {
   "codemirror_mode": {
    "name": "ipython",
    "version": 3
   },
   "file_extension": ".py",
   "mimetype": "text/x-python",
   "name": "python",
   "nbconvert_exporter": "python",
   "pygments_lexer": "ipython3",
   "version": "3.7.7"
  }
 },
 "nbformat": 4,
 "nbformat_minor": 4
}
